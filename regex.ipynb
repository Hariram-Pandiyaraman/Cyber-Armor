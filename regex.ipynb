{
 "cells": [
  {
   "cell_type": "code",
   "execution_count": 1,
   "id": "83034764-2d02-4ecb-b2b8-6a8aba487a91",
   "metadata": {},
   "outputs": [],
   "source": []
  },
  {
   "cell_type": "markdown",
   "id": "1e5c25f2-aa30-4e3f-aaeb-4e076fa7da2a",
   "metadata": {},
   "source": [
    "#To use Regular Expression through out the Program"
   ]
  },
  {
   "cell_type": "code",
   "execution_count": 2,
   "id": "06fbcfb7-71e1-4a5e-8083-4e1a9aa1a73c",
   "metadata": {},
   "outputs": [],
   "source": [
    "URL = {\"https://amzn.to/3O2qpey\",\"http://bafybeicrus7svtareq4oepf4wekzrvmomfye22mbmydk7x23kwlnvowv7a.ipfs.dweb.link/\"}"
   ]
  },
  {
   "cell_type": "markdown",
   "id": "d9d601d5-28df-41e2-994d-32a38fa709dc",
   "metadata": {},
   "source": [
    "#Assign some URLs to the variable \"URL\" for Demo "
   ]
  },
  {
   "cell_type": "code",
   "execution_count": 3,
   "id": "712b0811-04ac-447d-927c-0aded3f74bd2",
   "metadata": {},
   "outputs": [],
   "source": [
    "URL_pattern = r'^(?!.*bit\\.ly)(https?|ftp)[A-Za-z+.-]+://[A-Za-z.-]+[/:].*$'"
   ]
  },
  {
   "cell_type": "markdown",
   "id": "6ebf3aa0-0dd7-49d8-a65a-2e5ef6ec5883",
   "metadata": {},
   "source": [
    "#Assign Regex to the Variable \"URL_pattern\""
   ]
  },
  {
   "cell_type": "code",
   "execution_count": 1,
   "id": "8ced92a7-8fe1-42d6-9590-51923a45fe6c",
   "metadata": {},
   "outputs": [
    {
     "ename": "NameError",
     "evalue": "name 'URL_pattern' is not defined",
     "output_type": "error",
     "traceback": [
      "\u001b[1;31m---------------------------------------------------------------------------\u001b[0m",
      "\u001b[1;31mNameError\u001b[0m                                 Traceback (most recent call last)",
      "Cell \u001b[1;32mIn[1], line 1\u001b[0m\n\u001b[1;32m----> 1\u001b[0m \u001b[43mURL_pattern\u001b[49m\n",
      "\u001b[1;31mNameError\u001b[0m: name 'URL_pattern' is not defined"
     ]
    }
   ],
   "source": [
    "URL_pattern"
   ]
  },
  {
   "cell_type": "code",
   "execution_count": null,
   "id": "f695ddb8-0bbf-48cc-a38e-01f1a249a2b1",
   "metadata": {},
   "outputs": [],
   "source": []
  }
 ],
 "metadata": {
  "kernelspec": {
   "display_name": "Python 3 (ipykernel)",
   "language": "python",
   "name": "python3"
  },
  "language_info": {
   "codemirror_mode": {
    "name": "ipython",
    "version": 3
   },
   "file_extension": ".py",
   "mimetype": "text/x-python",
   "name": "python",
   "nbconvert_exporter": "python",
   "pygments_lexer": "ipython3",
   "version": "3.8.3"
  }
 },
 "nbformat": 4,
 "nbformat_minor": 5
}
